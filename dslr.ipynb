{
 "cells": [
  {
   "cell_type": "markdown",
   "metadata": {},
   "source": [
    "Import libraries\n"
   ]
  },
  {
   "cell_type": "code",
   "execution_count": 1,
   "metadata": {},
   "outputs": [],
   "source": [
    "# import matplotlib.pyplot as plt\n",
    "import numpy as np\n",
    "import pandas as pd\n"
   ]
  },
  {
   "cell_type": "markdown",
   "metadata": {},
   "source": [
    "Load a raw dataset.\n"
   ]
  },
  {
   "cell_type": "code",
   "execution_count": 2,
   "metadata": {},
   "outputs": [],
   "source": [
    "df = pd.read_csv(\"datasets/dataset_train.csv\")\n"
   ]
  },
  {
   "cell_type": "markdown",
   "metadata": {},
   "source": [
    "Clean the raw dataset.\n"
   ]
  },
  {
   "cell_type": "code",
   "execution_count": 3,
   "metadata": {},
   "outputs": [],
   "source": [
    "def clean_data(dataframe):\n",
    "    df = dataframe.drop(columns=[\"Index\", \"First Name\", \"Last Name\"],\n",
    "                        errors='ignore')\n",
    "    return df\n",
    "\n",
    "\n",
    "df = clean_data(df)"
   ]
  },
  {
   "cell_type": "markdown",
   "metadata": {},
   "source": [
    "Define describe function.\n"
   ]
  },
  {
   "cell_type": "code",
   "execution_count": 4,
   "metadata": {},
   "outputs": [
    {
     "name": "stdout",
     "output_type": "stream",
     "text": [
      "       Hogwarts House  Birthday  Best Hand  Arithmancy  Astronomy  Herbology  \\\n",
      "Count            1600      1600       1600        1566       1568       1567   \n",
      "Mean                0         0          0           0          0          0   \n",
      "Std                 0         0          0           0          0          0   \n",
      "Min                 0         0          0           0          0          0   \n",
      "25%                 0         0          0           0          0          0   \n",
      "50%                 0         0          0           0          0          0   \n",
      "75%                 0         0          0           0          0          0   \n",
      "Max                 0         0          0           0          0          0   \n",
      "\n",
      "       Defense Against the Dark Arts  Divination  Muggle Studies  \\\n",
      "Count                           1569        1561            1565   \n",
      "Mean                               0           0               0   \n",
      "Std                                0           0               0   \n",
      "Min                                0           0               0   \n",
      "25%                                0           0               0   \n",
      "50%                                0           0               0   \n",
      "75%                                0           0               0   \n",
      "Max                                0           0               0   \n",
      "\n",
      "       Ancient Runes  History of Magic  Transfiguration  Potions  \\\n",
      "Count           1565              1557             1566     1570   \n",
      "Mean               0                 0                0        0   \n",
      "Std                0                 0                0        0   \n",
      "Min                0                 0                0        0   \n",
      "25%                0                 0                0        0   \n",
      "50%                0                 0                0        0   \n",
      "75%                0                 0                0        0   \n",
      "Max                0                 0                0        0   \n",
      "\n",
      "       Care of Magical Creatures  Charms  Flying  \n",
      "Count                       1560    1600    1600  \n",
      "Mean                           0       0       0  \n",
      "Std                            0       0       0  \n",
      "Min                            0       0       0  \n",
      "25%                            0       0       0  \n",
      "50%                            0       0       0  \n",
      "75%                            0       0       0  \n",
      "Max                            0       0       0  \n"
     ]
    }
   ],
   "source": [
    "def describ(df):\n",
    "    describ_df = pd.DataFrame(\n",
    "        index=[\"Count\", \"Mean\", \"Std\", \"Min\", \"25%\", \"50%\", \"75%\", \"Max\"])\n",
    "    counts = len(df) - df.isna().sum()\n",
    "    for column in df:\n",
    "        sorted_df = df.sort_values(column)\n",
    "        describ_df[column] = [counts[column], 0, 0, 0, 0, 0, 0, 0]\n",
    "    print(describ_df)\n",
    "\n",
    "\n",
    "describ(df)\n"
   ]
  }
 ],
 "metadata": {
  "interpreter": {
   "hash": "31f2aee4e71d21fbe5cf8b01ff0e069b9275f58929596ceb00d14d90e3e16cd6"
  },
  "kernelspec": {
   "display_name": "Python 3.9.1 64-bit",
   "language": "python",
   "name": "python3"
  },
  "language_info": {
   "codemirror_mode": {
    "name": "ipython",
    "version": 3
   },
   "file_extension": ".py",
   "mimetype": "text/x-python",
   "name": "python",
   "nbconvert_exporter": "python",
   "pygments_lexer": "ipython3",
   "version": "3.9.1"
  },
  "orig_nbformat": 4
 },
 "nbformat": 4,
 "nbformat_minor": 2
}
